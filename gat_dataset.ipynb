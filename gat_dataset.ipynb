{
 "cells": [
  {
   "cell_type": "code",
   "execution_count": 2,
   "id": "2bd74f77",
   "metadata": {},
   "outputs": [
    {
     "name": "stderr",
     "output_type": "stream",
     "text": [
      "Loading AirfRANS (scarce, train): 100%|██████████| 200/200 [03:14<00:00,  1.03it/s]"
     ]
    },
    {
     "name": "stdout",
     "output_type": "stream",
     "text": [
      "torch.Size([169377, 7]) torch.Size([169377, 4]) torch.Size([2, 1693770])\n"
     ]
    },
    {
     "name": "stderr",
     "output_type": "stream",
     "text": [
      "\n"
     ]
    }
   ],
   "source": [
    "import os\n",
    "import torch\n",
    "from torch.utils.data import Dataset\n",
    "from tqdm import tqdm\n",
    "from airfrans.simulation import Simulation\n",
    "import numpy as np\n",
    "import json\n",
    "from torch_geometric.data import Data\n",
    "\n",
    "class AirfRANSGATDataset(Dataset):\n",
    "    def __init__(self, root, task='scarce', train=True, k=10):\n",
    "        self.root = root\n",
    "        self.task = task\n",
    "        self.train = train\n",
    "        self.k = k\n",
    "\n",
    "        taskk = 'full' if task == 'scarce' and not train else task\n",
    "        split = 'train' if train else 'test'\n",
    "\n",
    "        with open(os.path.join(root, 'manifest.json'), 'r') as f:\n",
    "            manifest = json.load(f)[f\"{taskk}_{split}\"]\n",
    "\n",
    "        self.names = manifest\n",
    "        self.graphs = []\n",
    "\n",
    "        for name in tqdm(manifest, desc=f'Loading AirfRANS ({taskk}, {split})'):\n",
    "            sim = Simulation(root=root, name=name)\n",
    "\n",
    "            inlet_velocity = (\n",
    "                np.array([np.cos(sim.angle_of_attack), np.sin(sim.angle_of_attack)]) \n",
    "                * sim.inlet_velocity\n",
    "            ).reshape(1, 2) * np.ones_like(sim.sdf)\n",
    "\n",
    "            data = np.concatenate([\n",
    "                sim.position,       \n",
    "                inlet_velocity,     \n",
    "                sim.sdf,           \n",
    "                sim.normals,        \n",
    "                sim.velocity,      \n",
    "                sim.pressure,      \n",
    "                sim.nu_t,           \n",
    "            ], axis=-1)\n",
    "\n",
    "            data = torch.tensor(data, dtype=torch.float32)\n",
    "            x = data[:, :7]       \n",
    "            y = data[:, 7:11]    \n",
    "\n",
    "            #그래프 edge 생성\n",
    "            edge_index = self._build_knn_graph(sim.position, k=self.k)\n",
    "\n",
    "            self.graphs.append(Data(x=x, y=y, edge_index=edge_index))\n",
    "\n",
    "    def __len__(self):\n",
    "        return len(self.graphs)\n",
    "\n",
    "    def __getitem__(self, idx):\n",
    "        graph = self.graphs[idx]\n",
    "        graph.name = self.names[idx]\n",
    "        return graph\n",
    "\n",
    "    def _build_knn_graph(self, pos, k=10):\n",
    "        #(N, 2) numpy array를 edge_index tensor (2, E)로 반환\n",
    "        from sklearn.neighbors import NearestNeighbors\n",
    "        nbrs = NearestNeighbors(n_neighbors=k + 1).fit(pos)\n",
    "        distances, indices = nbrs.kneighbors(pos)\n",
    "\n",
    "        # i → j edges\n",
    "        src, dst = [], []\n",
    "        for i in range(len(indices)):\n",
    "            for j in indices[i][1:]:  # skip self\n",
    "                src.append(i)\n",
    "                dst.append(j)\n",
    "        edge_index = torch.tensor([src, dst], dtype=torch.long)\n",
    "        return edge_index\n",
    "\n",
    "from torch_geometric.loader import DataLoader\n",
    "\n",
    "root = r\"C:\\airfran\\Dataset\"\n",
    "dataset = AirfRANSGATDataset(root, task='scarce', train=True, k=10)\n",
    "loader = DataLoader(dataset, batch_size=1, shuffle=True)\n",
    "\n",
    "for batch in loader:\n",
    "    print(batch.x.shape, batch.y.shape, batch.edge_index.shape)\n",
    "    break\n"
   ]
  },
  {
   "cell_type": "code",
   "execution_count": 11,
   "id": "960c384e",
   "metadata": {},
   "outputs": [
    {
     "name": "stdout",
     "output_type": "stream",
     "text": [
      "torch.Size([180442, 4])\n"
     ]
    }
   ],
   "source": [
    "import torch\n",
    "from torch_geometric.nn import GATConv\n",
    "\n",
    "class SimpleGAT(torch.nn.Module):\n",
    "    def __init__(self, in_channels=7, hidden_channels=64, out_channels=4, heads=4):\n",
    "        super().__init__()\n",
    "        self.gat1 = GATConv(in_channels, hidden_channels, heads=heads, concat=True) #첫번째 레이어\n",
    "        self.gat2 = GATConv(hidden_channels * heads, out_channels, heads=1, concat=False) #두번째 레이어\n",
    "\n",
    "    def forward(self, x, edge_index):\n",
    "        x = torch.relu(self.gat1(x, edge_index))\n",
    "        x = self.gat2(x, edge_index)\n",
    "        return x\n",
    "\n",
    "# 사용 예시\n",
    "model = SimpleGAT()\n",
    "for batch in loader:\n",
    "    pred = model(batch.x, batch.edge_index)\n",
    "    print(pred.shape)  # (N, 4)\n",
    "    break\n"
   ]
  },
  {
   "cell_type": "code",
   "execution_count": null,
   "id": "462d4190",
   "metadata": {},
   "outputs": [],
   "source": []
  }
 ],
 "metadata": {
  "kernelspec": {
   "display_name": ".venv",
   "language": "python",
   "name": "python3"
  },
  "language_info": {
   "codemirror_mode": {
    "name": "ipython",
    "version": 3
   },
   "file_extension": ".py",
   "mimetype": "text/x-python",
   "name": "python",
   "nbconvert_exporter": "python",
   "pygments_lexer": "ipython3",
   "version": "3.10.0"
  }
 },
 "nbformat": 4,
 "nbformat_minor": 5
}
