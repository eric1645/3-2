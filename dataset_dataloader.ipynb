{
 "cells": [
  {
   "cell_type": "code",
   "execution_count": 1,
   "id": "5b51fcb2",
   "metadata": {},
   "outputs": [
    {
     "name": "stderr",
     "output_type": "stream",
     "text": [
      "Loading AirfRANS (scarce, train): 100%|██████████| 200/200 [00:44<00:00,  4.45it/s]"
     ]
    },
    {
     "name": "stdout",
     "output_type": "stream",
     "text": [
      "('airFoil2D_SST_40.175_10.442_1.962_3.054_0.0_6.878',) torch.Size([1, 197386, 7]) torch.Size([1, 197386, 4])\n"
     ]
    },
    {
     "name": "stderr",
     "output_type": "stream",
     "text": [
      "\n"
     ]
    }
   ],
   "source": [
    "import os\n",
    "import torch\n",
    "from torch.utils.data import Dataset, DataLoader\n",
    "from tqdm import tqdm\n",
    "from airfrans.simulation import Simulation\n",
    "import numpy as np\n",
    "import json\n",
    "\n",
    "class AirfRANSDataset(Dataset):\n",
    "\n",
    "    def __init__(self, root, task='scarce', train=True):\n",
    "        self.root = root\n",
    "        self.task = task\n",
    "        self.train = train\n",
    "\n",
    "        taskk = 'full' if task == 'scarce' and not train else task\n",
    "        split = 'train' if train else 'test'\n",
    "\n",
    "        with open(os.path.join(root, 'manifest.json'), 'r') as f:\n",
    "            manifest = json.load(f)[f\"{taskk}_{split}\"]\n",
    "\n",
    "        self.names = manifest\n",
    "        self.samples = []\n",
    "        for name in tqdm(manifest, desc=f'Loading AirfRANS ({taskk}, {split})'):\n",
    "            sim = Simulation(root=root, name=name)\n",
    "\n",
    "            inlet_velocity = (\n",
    "                np.array([np.cos(sim.angle_of_attack), np.sin(sim.angle_of_attack)])\n",
    "                * sim.inlet_velocity\n",
    "            ).reshape(1, 2) * np.ones_like(sim.sdf)\n",
    "\n",
    "            data = np.concatenate([\n",
    "                sim.position,\n",
    "                inlet_velocity,\n",
    "                sim.sdf,\n",
    "                sim.normals,\n",
    "                sim.velocity,\n",
    "                sim.pressure,\n",
    "                sim.nu_t,\n",
    "                sim.surface.reshape(-1, 1)\n",
    "            ], axis=-1)\n",
    "\n",
    "            self.samples.append(torch.tensor(data, dtype=torch.float32))\n",
    "\n",
    "    def __len__(self):\n",
    "        return len(self.samples)\n",
    "\n",
    "    def __getitem__(self, idx):\n",
    "        data = self.samples[idx]\n",
    "        name = self.names[idx]\n",
    "\n",
    "        x = data[:, :7]\n",
    "        y = data[:, 7:11]\n",
    "\n",
    "        return x, y, name\n",
    "\n",
    "root = r\"C:\\airfran\\Dataset\"\n",
    "dataset = AirfRANSDataset(root, task='scarce', train=True)\n",
    "loader = DataLoader(dataset, batch_size=1, shuffle=True)\n",
    "\n",
    "for x, y, name in loader:\n",
    "    print(name, x.shape, y.shape)\n",
    "    break\n"
   ]
  }
 ],
 "metadata": {
  "kernelspec": {
   "display_name": ".venv",
   "language": "python",
   "name": "python3"
  },
  "language_info": {
   "codemirror_mode": {
    "name": "ipython",
    "version": 3
   },
   "file_extension": ".py",
   "mimetype": "text/x-python",
   "name": "python",
   "nbconvert_exporter": "python",
   "pygments_lexer": "ipython3",
   "version": "3.10.0"
  }
 },
 "nbformat": 4,
 "nbformat_minor": 5
}
